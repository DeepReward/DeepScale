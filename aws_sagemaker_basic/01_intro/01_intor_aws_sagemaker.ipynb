{
 "cells": [
  {
   "cell_type": "markdown",
   "metadata": {},
   "source": [
    "# 01. Introduction to Machine Learning with SageMaker on AWS"
   ]
  },
  {
   "cell_type": "markdown",
   "metadata": {},
   "source": [
    "* 딥리워드 / 딥스케일 - AWS SageMaker 기초 [1]\n",
    "* 발표자 : 김무성"
   ]
  },
  {
   "cell_type": "markdown",
   "metadata": {},
   "source": [
    "## AWS SageMaker란? [1, 5]"
   ]
  },
  {
   "cell_type": "markdown",
   "metadata": {},
   "source": [
    "<img src=\"figures/cap01.png\" width=600 />"
   ]
  },
  {
   "cell_type": "markdown",
   "metadata": {},
   "source": [
    "<img src=\"figures/cap02.png\" width=600 />"
   ]
  },
  {
   "cell_type": "markdown",
   "metadata": {},
   "source": [
    "--------------------------------------"
   ]
  },
  {
   "cell_type": "markdown",
   "metadata": {},
   "source": [
    "# Exercise 1.1 - Driving Linear Learner"
   ]
  },
  {
   "cell_type": "markdown",
   "metadata": {},
   "source": [
    "##### 참고자료\n",
    "* [1] edX course : Amazon SageMaker: Simplifying Machine Learning Application Development \n",
    "    - https://www.edx.org/course/simplifying-machine-learning-app-development-with-amazon-sagemaker\n",
    "    - Week 1. Introduction to Machine Learning with SageMaker on AWS"
   ]
  },
  {
   "cell_type": "markdown",
   "metadata": {},
   "source": [
    "### 1. Create an IAM policy."
   ]
  },
  {
   "cell_type": "markdown",
   "metadata": {},
   "source": [
    "* https://console.aws.amazon.com/iam/home#/policies"
   ]
  },
  {
   "cell_type": "markdown",
   "metadata": {},
   "source": [
    "```json\n",
    "{\n",
    "  \"Version\": \"2012-10-17\",\n",
    "  \"Statement\": [\n",
    "    {\n",
    "    \"Effect\": \"Allow\",\n",
    "    \"Action\": [\n",
    "      \"apigateway:*\",\n",
    "      \"lambda:*\",\n",
    "      \"s3:*\",\n",
    "      \"logs:*\",\n",
    "      \"cloud9:*\",\n",
    "      \"iam:*\",\n",
    "      \"cloudwatch:*\",\n",
    "      \"ec2:*\",\n",
    "      \"sagemaker:*\",\n",
    "      \"kms:ListAliases\"\n",
    "    ],\n",
    "    \"Resource\": \"*\"\n",
    "    }\n",
    "  ]\n",
    "}\n",
    "```"
   ]
  },
  {
   "cell_type": "markdown",
   "metadata": {},
   "source": [
    "### 2. Create an IAM user and attach a policy to the user."
   ]
  },
  {
   "cell_type": "markdown",
   "metadata": {},
   "source": [
    "<img src=\"figures/ex01.png\" width=600 />"
   ]
  },
  {
   "cell_type": "markdown",
   "metadata": {},
   "source": [
    "생성 완료 후\n",
    "* Sign out of the console, and sign in as the edXSageMakerUser IAM user (IAM user name: SageMakerOnAWS)\n",
    "* https://your-sign-in-URL"
   ]
  },
  {
   "cell_type": "markdown",
   "metadata": {},
   "source": [
    "### 3. Create an AWS Cloud9 environment."
   ]
  },
  {
   "cell_type": "markdown",
   "metadata": {},
   "source": [
    "<img src=\"figures/ex02.png\" width=600 />"
   ]
  },
  {
   "cell_type": "markdown",
   "metadata": {},
   "source": [
    "<img src=\"figures/cap_cloud9_01.png\" width=600 />"
   ]
  },
  {
   "cell_type": "markdown",
   "metadata": {},
   "source": [
    "### 4. Download and run the training code."
   ]
  },
  {
   "cell_type": "markdown",
   "metadata": {},
   "source": [
    "To download and extract the application code, run the following commands in your AWS Cloud9 terminal:"
   ]
  },
  {
   "cell_type": "markdown",
   "metadata": {},
   "source": [
    "```shell\n",
    "$ cd ~/environment\n",
    "$ wget http://us-west-2-tcdev.s3.amazonaws.com/courses/AWS-100-MLS/v1.0.0/exercises/ex-driver.zip -O ex-driver.zip\n",
    "$ unzip ex-driver.zip\n",
    "```"
   ]
  },
  {
   "cell_type": "markdown",
   "metadata": {},
   "source": [
    "Change to the ex-driver directory, and use pip to install the Python requirements. This command installs boto3 onto your Cloud9 instance. This is needed later in the exercise when you run inference.py."
   ]
  },
  {
   "cell_type": "markdown",
   "metadata": {},
   "source": [
    "```shell\n",
    "$ cd ~/environment/ex-driver\n",
    "$ pip-3.6 install -r requirements.txt --user\n",
    "```"
   ]
  },
  {
   "cell_type": "markdown",
   "metadata": {},
   "source": [
    "<img src=\"figures/cap_cloud9_02.png\" width=600 />"
   ]
  },
  {
   "cell_type": "markdown",
   "metadata": {},
   "source": [
    "Use the following command to launch training.py. Use the arrow keys to drive the car on the sine wave track. The road display is always relative to the car. Think of it as data from a sensor array on the front of the car."
   ]
  },
  {
   "cell_type": "markdown",
   "metadata": {},
   "source": [
    "```shell\n",
    "$ python3 training.py\n",
    "```"
   ]
  },
  {
   "cell_type": "markdown",
   "metadata": {},
   "source": [
    " <img src=\"figures/ex1.1-animated.gif\" />"
   ]
  },
  {
   "cell_type": "markdown",
   "metadata": {},
   "source": [
    "The training.py command generates a CSV file from your training session. The file contains labeled data of your steering decisions and a representation of how the road looked at the time you made each decision."
   ]
  },
  {
   "cell_type": "markdown",
   "metadata": {},
   "source": [
    "<img src=\"figures/cap_cloud9_03.png\" width=600 />"
   ]
  },
  {
   "cell_type": "markdown",
   "metadata": {},
   "source": [
    "#### 참고\n",
    "실습 코드를 다운로드 받아보면 다음과 같다(현재 실습 저장소에 추가해놨음)"
   ]
  },
  {
   "cell_type": "markdown",
   "metadata": {},
   "source": [
    "학습 데이터 만들기 전 :"
   ]
  },
  {
   "cell_type": "code",
   "execution_count": 4,
   "metadata": {},
   "outputs": [
    {
     "name": "stdout",
     "output_type": "stream",
     "text": [
      "inference.py  requirements.txt\ttraining.py\n"
     ]
    }
   ],
   "source": [
    "!ls ex-driver/"
   ]
  },
  {
   "cell_type": "code",
   "execution_count": 5,
   "metadata": {},
   "outputs": [
    {
     "name": "stdout",
     "output_type": "stream",
     "text": [
      "# Copyright 2018 Amazon.com, Inc. or its affiliates. All Rights Reserved.\n",
      "#\n",
      "# Licensed under the Apache License, Version 2.0 (the \"License\"). You may not use this file except\n",
      "# in compliance with the License. A copy of the License is located at\n",
      "#\n",
      "# https://aws.amazon.com/apache-2-0/\n",
      "#\n",
      "# or in the \"license\" file accompanying this file. This file is distributed on an \"AS IS\" BASIS,\n",
      "# WITHOUT WARRANTIES OR CONDITIONS OF ANY KIND, either express or implied. See the License for the\n",
      "# specific language governing permissions and limitations under the License.\n",
      "import sys\n",
      "import csv\n",
      "from curses import wrapper, use_default_colors, napms, curs_set\n",
      "\n",
      "road_centers = [0,2,3,3,2,0,-2,-3,-3,-2];\n",
      "training_csv = []\n",
      "car_pos = 0\n",
      "\n",
      "def draw_road(screen):\n",
      "    road_csv = []\n",
      "\n",
      "    # needed to clear the terminal on Cloud9\n",
      "    for i in range(len(road_centers)):\n",
      "        screen.addstr(i+1, 1, \".\" * 25)\n",
      "    screen.refresh()\n",
      "\n",
      "    for i in range(len(road_centers)):\n",
      "        road_center = road_centers[i]\n",
      "        road_left = road_center-3;\n",
      "        road_right = road_centers[i] + 3;\n",
      "        line = ''\n",
      "        for j in range(car_pos-12, car_pos+13):\n",
      "            paint = '░'\n",
      "            if j==road_left or j==road_right: paint = '█'\n",
      "            if j > road_left and j < road_right: paint = '▒';\n",
      "            line += paint\n",
      "        road_csv.extend(list(line.replace(\"░\",\"0\").replace(\"█\",\"1\").replace(\"▒\",\"2\")))\n",
      "        screen.addstr(i+1, 1, line)\n",
      "    # draw the car\n",
      "    screen.addstr(len(road_centers), 13, \"▀\")\n",
      "    screen.refresh()\n",
      "    return road_csv\n",
      "\n",
      "def main(stdscr):\n",
      "    global car_pos\n",
      "    use_default_colors()\n",
      "    stdscr.border()\n",
      "    curs_set(0)\n",
      "    stdscr.addstr(1, 1, \"Press any key to start..\")\n",
      "    stdscr.getch()\n",
      "\n",
      "    stdscr.nodelay(True)\n",
      "    for i in range(150):\n",
      "        label = \"1\" # straight\n",
      "        road_csv = draw_road(stdscr)\n",
      "        napms(300)\n",
      "        # read everything off the buffer\n",
      "        # only interested in the last non -1 character\n",
      "        ch = 0\n",
      "        while True:\n",
      "            key = stdscr.getch()\n",
      "            if key==-1: break\n",
      "            else: ch = key\n",
      "\n",
      "        if ch == 260: # left\n",
      "            car_pos-=1\n",
      "            label = \"0\"\n",
      "        if ch == 261: # right\n",
      "            car_pos+=1\n",
      "            label = \"2\"\n",
      "\n",
      "        road_csv.insert(0, label)\n",
      "        training_csv.append(road_csv)\n",
      "        pop = road_centers.pop()\n",
      "        road_centers.insert(0, pop)\n",
      "\n",
      "\n",
      "    stdscr.nodelay(False)\n",
      "    stdscr.addstr(12, 1, \"Press any key to quit\")\n",
      "    stdscr.getkey()\n",
      "\n",
      "\n",
      "if __name__ == \"__main__\":\n",
      "    from curses import wrapper\n",
      "    wrapper(main)\n",
      "\n",
      "    with open('training.csv', 'w') as csvfile:\n",
      "        writer = csv.writer(csvfile)\n",
      "        for row in training_csv:\n",
      "            writer.writerow(row)\n"
     ]
    }
   ],
   "source": [
    "!cat ex-driver/training.py"
   ]
  },
  {
   "cell_type": "markdown",
   "metadata": {},
   "source": [
    "training.py 파일을 실행시켜 학습 데이터 만든 후 : "
   ]
  },
  {
   "cell_type": "code",
   "execution_count": 6,
   "metadata": {},
   "outputs": [
    {
     "name": "stdout",
     "output_type": "stream",
     "text": [
      "inference.py  requirements.txt\ttraining.csv  training.py\n"
     ]
    }
   ],
   "source": [
    "!ls ex-driver"
   ]
  },
  {
   "cell_type": "code",
   "execution_count": 9,
   "metadata": {},
   "outputs": [
    {
     "name": "stdout",
     "output_type": "stream",
     "text": [
      "1,0,0,0,0,0,0,0,0,0,1,2,2,2,2,2,1,0,0,0,0,0,0,0,0,0,0,0,0,0,0,0,0,0,0,0,0,1,2,2,2,2,2,1,0,0,0,0,0,0,0,0,0,0,0,0,0,0,0,0,0,0,0,1,2,2,2,2,2,1,0,0,0,0,0,0,0,0,0,0,0,0,0,0,0,0,0,0,1,2,2,2,2,2,1,0,0,0,0,0,0,0,0,0,0,0,0,0,0,0,0,0,1,2,2,2,2,2,1,0,0,0,0,0,0,0,0,0,0,0,0,0,0,0,0,1,2,2,2,2,2,1,0,0,0,0,0,0,0,0,0,0,0,0,0,0,0,0,1,2,2,2,2,2,1,0,0,0,0,0,0,0,0,0,0,0,0,0,0,0,0,0,1,2,2,2,2,2,1,0,0,0,0,0,0,0,0,0,0,0,0,0,0,0,0,0,0,1,2,2,2,2,2,1,0,0,0,0,0,0,0,0,0,0,0,0,0,0,0,0,0,0,0,1,2,2,2,2,2,1,0,0,0,0,0,0,0,0,0,0,0\n",
      "1,0,0,0,0,0,0,0,1,2,2,2,2,2,1,0,0,0,0,0,0,0,0,0,0,0,0,0,0,0,0,0,0,0,0,1,2,2,2,2,2,1,0,0,0,0,0,0,0,0,0,0,0,0,0,0,0,0,0,0,0,0,1,2,2,2,2,2,1,0,0,0,0,0,0,0,0,0,0,0,0,0,0,0,0,0,0,0,1,2,2,2,2,2,1,0,0,0,0,0,0,0,0,0,0,0,0,0,0,0,0,0,0,1,2,2,2,2,2,1,0,0,0,0,0,0,0,0,0,0,0,0,0,0,0,0,0,1,2,2,2,2,2,1,0,0,0,0,0,0,0,0,0,0,0,0,0,0,0,0,1,2,2,2,2,2,1,0,0,0,0,0,0,0,0,0,0,0,0,0,0,0,0,1,2,2,2,2,2,1,0,0,0,0,0,0,0,0,0,0,0,0,0,0,0,0,0,1,2,2,2,2,2,1,0,0,0,0,0,0,0,0,0,0,0,0,0,0,0,0,0,0,1,2,2,2,2,2,1,0,0,0,0,0,0,0,0,0,0,0,0\n"
     ]
    }
   ],
   "source": [
    "!head ex-driver/training.csv -n 2"
   ]
  },
  {
   "cell_type": "markdown",
   "metadata": {},
   "source": [
    "### 5. Create an Amazon S3 bucket to store the training data and model artifact."
   ]
  },
  {
   "cell_type": "markdown",
   "metadata": {},
   "source": [
    "* https://s3.console.aws.amazon.com/s3/home"
   ]
  },
  {
   "cell_type": "markdown",
   "metadata": {},
   "source": [
    "<img src=\"figures/ex03.png\" width=600 />"
   ]
  },
  {
   "cell_type": "markdown",
   "metadata": {},
   "source": [
    "<img src=\"figures/cap_s3_01.png\" width=600 />"
   ]
  },
  {
   "cell_type": "markdown",
   "metadata": {},
   "source": [
    "<img src=\"figures/cap_s3_02.png\" width=600 />"
   ]
  },
  {
   "cell_type": "markdown",
   "metadata": {},
   "source": [
    "### 6. Create the Amazon SageMaker training job."
   ]
  },
  {
   "cell_type": "markdown",
   "metadata": {},
   "source": [
    "* Return to your Cloud9 SageMakerOnAWS environment.\n",
    "* Use the AWS CLI to copy your training.csv file to the newly created S3 bucket. NOTE In the following command, replace REPLACE_WITH_YOUR_INITIALS with your initials to match the bucket you created earlier.\n",
    "\n",
    "```shell\n",
    "$ aws s3 cp ~/environment/ex-driver/training.csv s3://REPLACE_WITH_YOUR_INITIALS-sagemaker\n",
    "```"
   ]
  },
  {
   "cell_type": "markdown",
   "metadata": {},
   "source": [
    "<img src=\"figures/cap_s3_03.png\" width=600 />"
   ]
  },
  {
   "cell_type": "markdown",
   "metadata": {},
   "source": [
    "In the console, click Services, and then click Amazon SageMaker to open the Amazon SageMaker dashboard"
   ]
  },
  {
   "cell_type": "markdown",
   "metadata": {},
   "source": [
    "* https://console.aws.amazon.com/sagemaker"
   ]
  },
  {
   "cell_type": "markdown",
   "metadata": {},
   "source": [
    "<img src=\"figures/ex04.png\" width=600 />"
   ]
  },
  {
   "cell_type": "markdown",
   "metadata": {},
   "source": [
    "<img src=\"figures/cap_sagemaker_01.png\" width=600 />\n",
    "<img src=\"figures/cap_sagemaker_02.png\" width=600 />\n",
    "<img src=\"figures/cap_sagemaker_03.png\" width=600 />\n",
    "<img src=\"figures/cap_sagemaker_04.png\" width=600 />"
   ]
  },
  {
   "cell_type": "markdown",
   "metadata": {},
   "source": [
    "### 7. Create the Amazon SageMaker model and endpoint."
   ]
  },
  {
   "cell_type": "markdown",
   "metadata": {},
   "source": [
    "<img src=\"figures/ex05.png\" width=600 />"
   ]
  },
  {
   "cell_type": "markdown",
   "metadata": {},
   "source": [
    "#### model"
   ]
  },
  {
   "cell_type": "markdown",
   "metadata": {},
   "source": [
    "<img src=\"figures/cap_sagemaker_model_01.png\" width=600 />\n",
    "<img src=\"figures/cap_sagemaker_model_02.png\" width=600 />\n",
    "<img src=\"figures/cap_sagemaker_model_03.png\" width=600 />\n",
    "<img src=\"figures/cap_sagemaker_model_04.png\" width=600 />"
   ]
  },
  {
   "cell_type": "markdown",
   "metadata": {},
   "source": [
    "#### endpoint"
   ]
  },
  {
   "cell_type": "markdown",
   "metadata": {},
   "source": [
    "<img src=\"figures/cap_sagemaker_model_endpoint_01.png\" width=600 />\n",
    "<img src=\"figures/cap_sagemaker_model_endpoint_02.png\" width=600 />\n",
    "<img src=\"figures/cap_sagemaker_model_endpoint_03.png\" width=600 />\n",
    "<img src=\"figures/cap_sagemaker_model_endpoint_04.png\" width=600 />\n",
    "<img src=\"figures/cap_sagemaker_model_endpoint_05.png\" width=600 />\n",
    "<img src=\"figures/cap_sagemaker_model_endpoint_06.png\" width=600 />\n",
    "<img src=\"figures/cap_sagemaker_model_endpoint_07.png\" width=600 />"
   ]
  },
  {
   "cell_type": "markdown",
   "metadata": {},
   "source": [
    "### 8. Inference with the endpoint."
   ]
  },
  {
   "cell_type": "markdown",
   "metadata": {},
   "source": [
    "In this section, you will run the inference.py script to communicate with the Amazon SageMaker endpoint created in the previous task."
   ]
  },
  {
   "cell_type": "markdown",
   "metadata": {},
   "source": [
    "Return to your Cloud9 SageMakerOnAWS environment."
   ]
  },
  {
   "cell_type": "markdown",
   "metadata": {},
   "source": [
    "Run the following commands in your AWS Cloud9 terminal to change to the exercise folder and run the inference code:"
   ]
  },
  {
   "cell_type": "markdown",
   "metadata": {},
   "source": [
    "```shell\n",
    "$ cd ~/environment/ex-driver\n",
    "$ python3 inference.py\n",
    "```"
   ]
  },
  {
   "cell_type": "markdown",
   "metadata": {},
   "source": [
    "<img src=\"figures/cap_sagemaker_infer_01.png\" width=600 />\n",
    "<img src=\"figures/cap_sagemaker_infer_02.png\" width=600 />\n",
    "<img src=\"figures/cap_sagemaker_infer_03.png\" width=600 />"
   ]
  },
  {
   "cell_type": "markdown",
   "metadata": {},
   "source": [
    "##### inference.py 코드에서 엔드포인트를 사용하고 있는 부분은 다음과 같다."
   ]
  },
  {
   "cell_type": "markdown",
   "metadata": {},
   "source": [
    "```python\n",
    "# ask sagemaker linear learner for the car direction\n",
    "body = \",\".join(road_csv)\n",
    "response = client.invoke_endpoint(\n",
    "    EndpointName='driving-endpoint',\n",
    "    Body=body,\n",
    "    ContentType='text/csv'\n",
    ")\n",
    "interfence = json.loads(response['Body'].read())\n",
    "label = int(interfence[\"predictions\"][0][\"predicted_label\"])\n",
    "```"
   ]
  },
  {
   "cell_type": "markdown",
   "metadata": {},
   "source": [
    "The inference JSON response contains predictions, scores for each label and a predicted_label. The code uses the predicted_label make a direction decision."
   ]
  },
  {
   "cell_type": "markdown",
   "metadata": {},
   "source": [
    "```json\n",
    "{\n",
    "  \"predictions\": [\n",
    "    {\n",
    "      \"score\": [\n",
    "        0.9913098216056824,\n",
    "        0.008546961471438408,\n",
    "        0.000143218640005216\n",
    "      ],\n",
    "      \"predicted_label\": 0\n",
    "    }\n",
    "  ]\n",
    "}\n",
    "```"
   ]
  },
  {
   "cell_type": "markdown",
   "metadata": {},
   "source": [
    "### 9. Delete the endpoint, endpoint configuration, and model."
   ]
  },
  {
   "cell_type": "markdown",
   "metadata": {},
   "source": [
    "실습이 끝나면 요금폭탄을 맞지 않도록, 반드시 지웁시다. "
   ]
  },
  {
   "cell_type": "markdown",
   "metadata": {},
   "source": [
    "# 참고자료\n",
    "* [1] edX course : Amazon SageMaker: Simplifying Machine Learning Application Development \n",
    "    - https://www.edx.org/course/simplifying-machine-learning-app-development-with-amazon-sagemaker\n",
    "    - Week 1. Introduction to Machine Learning with SageMaker on AWS\n",
    "* [2] Introducing Amazon SageMaker - https://www.slideshare.net/AmazonWebServices/introducing-amazon-sagemaker\n",
    "* [3] AWS CLOUD 2018- AWS의 새로운 통합 머신러닝 플랫폼 서비스, Amazon SageMaker (김무현 솔루션즈 아키텍트) - https://www.slideshare.net/awskorea/amazon-sagemaker-awss-new-deep-learning-service-muhyun-kim\n",
    "* [4] (github) Amazon SageMaker Examples - https://github.com/awslabs/amazon-sagemaker-examples\n",
    "* [5] Pragmatic AI: An Introduction to Cloud-Based Machine Learning \n",
    "    - https://www.amazon.com/Pragmatic-AI-Introduction-Cloud-Based-Analytics/dp/0134863860/\n",
    "    - 2. Spartan AI Lifecycle"
   ]
  }
 ],
 "metadata": {
  "kernelspec": {
   "display_name": "Python 3",
   "language": "python",
   "name": "python3"
  },
  "language_info": {
   "codemirror_mode": {
    "name": "ipython",
    "version": 3
   },
   "file_extension": ".py",
   "mimetype": "text/x-python",
   "name": "python",
   "nbconvert_exporter": "python",
   "pygments_lexer": "ipython3",
   "version": "3.7.1"
  }
 },
 "nbformat": 4,
 "nbformat_minor": 2
}
