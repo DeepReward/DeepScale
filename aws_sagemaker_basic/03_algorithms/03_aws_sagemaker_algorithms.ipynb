{
 "cells": [
  {
   "cell_type": "markdown",
   "metadata": {},
   "source": [
    "# 03. Amazon SageMaker Algorithms"
   ]
  },
  {
   "cell_type": "markdown",
   "metadata": {},
   "source": [
    "* 딥리워드 / 딥스케일 - AWS SageMaker 기초 [1]\n",
    "* 발표자 : 김무성"
   ]
  },
  {
   "cell_type": "markdown",
   "metadata": {},
   "source": [
    "----------------------------"
   ]
  },
  {
   "cell_type": "markdown",
   "metadata": {},
   "source": [
    "# 차례\n",
    "* Exercise 3.1: Using the k-means Algorithm\n",
    "    - 1. Create an Amazon SageMaker notebook instance\n",
    "    - 2. Download Pandas-Demo.ipynb to the notebook instance\n",
    "    - 3. Run Pandas-Demo.ipynb on the notebook instance\n",
    "* Exercise 3.2: Using the XGBoost Algorithm\n",
    "    - 1. Download notebook code to the notebook instance\n",
    "    - 2. Run the notebook code on the notebook instance\n",
    "    - 3. End running Jupyter processes, and stop the notebook instance\n",
    "    - 4. Delete the endpoint con guration and model"
   ]
  },
  {
   "cell_type": "markdown",
   "metadata": {},
   "source": [
    "--------------------------------------"
   ]
  },
  {
   "cell_type": "markdown",
   "metadata": {},
   "source": [
    "<img src=\"figures/sagemaker_overview.png\" width=600 />"
   ]
  },
  {
   "cell_type": "markdown",
   "metadata": {},
   "source": [
    "# Exercise 3.1: Using the k-means Algorithm"
   ]
  },
  {
   "cell_type": "markdown",
   "metadata": {},
   "source": [
    "##### 참고자료\n",
    "* [1] edX course : Amazon SageMaker: Simplifying Machine Learning Application Development \n",
    "    - https://www.edx.org/course/simplifying-machine-learning-app-development-with-amazon-sagemaker\n",
    "    - Week 3. Amazon SageMaker Algorithms"
   ]
  },
  {
   "cell_type": "markdown",
   "metadata": {},
   "source": [
    "### 0. edXSageMakerUser IAM user 로 로그인"
   ]
  },
  {
   "cell_type": "markdown",
   "metadata": {},
   "source": [
    "###### 01 chapter 발표자료 참조\n",
    "01_intro / 01_intro_aws_sagemaker.ipynb\n",
    "- https://nbviewer.jupyter.org/github/deepreward/DeepScale/blob/master/aws_sagemaker_basic/01_intro/01_intro_aws_sagemaker.ipynb\n",
    "\n",
    "\n",
    "-------------\n",
    "\n",
    "* Sign in as the edXSageMakerUser IAM user (IAM user name: SageMakerOnAWS)\n",
    "* https://your-sign-in-URL"
   ]
  },
  {
   "cell_type": "markdown",
   "metadata": {},
   "source": [
    "### 1. Create an Amazon SageMaker notebook instance"
   ]
  },
  {
   "cell_type": "markdown",
   "metadata": {},
   "source": [
    "* Sign in to the AWS Management Console as the edXSageMakerUser IAM user.\n",
    "* In the console, click Services > Amazon SageMaker to open the Amazon SageMaker dashboard. \n",
    "* Make sure you are in the Oregon Region.\n",
    "* In the left navigation pane, click Notebook instances > Create notebook instance.\n",
    "* For Notebook instance name, enter edXSageMaker in the text box.\n",
    "* Confirm that the IAM role is populated with the role you created in the previous exercise.\n",
    "* Click Create notebook instance."
   ]
  },
  {
   "cell_type": "markdown",
   "metadata": {},
   "source": [
    "<img src=\"figures/cap01.png\" width=600 />"
   ]
  },
  {
   "cell_type": "markdown",
   "metadata": {},
   "source": [
    "### 2. Start the Amazon SageMaker example"
   ]
  },
  {
   "cell_type": "markdown",
   "metadata": {},
   "source": [
    "In this section, you will launch the sample kmeans_mnist.ipynb notebook into your notebook instance.\n",
    "\n",
    "The Amazon SageMaker examples are maintained in a Git repository at https://github.com/awslabs/amazon-sagemaker-examples."
   ]
  },
  {
   "cell_type": "markdown",
   "metadata": {},
   "source": [
    "* From the Jupyter notebook home, click SageMaker Examples."
   ]
  },
  {
   "cell_type": "markdown",
   "metadata": {},
   "source": [
    "<img src=\"figures/cap02.png\" width=600 />"
   ]
  },
  {
   "cell_type": "markdown",
   "metadata": {},
   "source": [
    "* Locate the kmeans_mnist example in SageMaker Python Sdk > kmeans_mnist.ipynb, and click Use. \n",
    "* Click Create copy to copy and launch the example."
   ]
  },
  {
   "cell_type": "markdown",
   "metadata": {},
   "source": [
    "<img src=\"figures/cap03.png\" width=600 />\n",
    "<img src=\"figures/cap04.png\" width=600 />\n",
    "<img src=\"figures/cap05.png\" width=600 />\n",
    "<img src=\"figures/cap06.png\" width=600 />\n",
    "<img src=\"figures/cap07.png\" width=600 />\n",
    "<img src=\"figures/cap08.png\" width=600 />"
   ]
  },
  {
   "cell_type": "markdown",
   "metadata": {},
   "source": [
    "#### 관련 코드 조각들"
   ]
  },
  {
   "cell_type": "markdown",
   "metadata": {},
   "source": [
    "##### 모델 생성"
   ]
  },
  {
   "cell_type": "markdown",
   "metadata": {},
   "source": [
    "```python\n",
    "from sagemaker import get_execution_role\n",
    "from sagemaker.session import Session\n",
    "\n",
    "role = get_execution_role()\n",
    "bucket = Session().default_bucket()\n",
    "```"
   ]
  },
  {
   "cell_type": "markdown",
   "metadata": {},
   "source": [
    "```python\n",
    "from sagemaker import KMeans\n",
    "\n",
    "data_location = 's3://{}/kmeans_highlevel_example/data'.format(bucket)\n",
    "output_location = 's3://{}/kmeans_example/output'.format(bucket)\n",
    "\n",
    "print('training data will be uploaded to: {}'.format(data_location))\n",
    "print('training artifacts will be uploaded to: {}'.format(output_location))\n",
    "\n",
    "kmeans = KMeans(role=role,\n",
    "                train_instance_count=2,\n",
    "                train_instance_type='ml.c4.xlarge',\n",
    "                output_path=output_location,\n",
    "                k=10,\n",
    "                data_location=data_location)\n",
    "```"
   ]
  },
  {
   "cell_type": "markdown",
   "metadata": {},
   "source": [
    "<img src=\"figures/cap09.png\" width=600 />"
   ]
  },
  {
   "cell_type": "markdown",
   "metadata": {},
   "source": [
    "##### 학습"
   ]
  },
  {
   "cell_type": "markdown",
   "metadata": {},
   "source": [
    "```python\n",
    "kmeans.fit(kmeans.record_set(train_set[0]))\n",
    "```"
   ]
  },
  {
   "cell_type": "markdown",
   "metadata": {},
   "source": [
    "<img src=\"figures/cap10.png\" width=600 />"
   ]
  },
  {
   "cell_type": "markdown",
   "metadata": {},
   "source": [
    "##### 디플로이(엔드포인트 생성) & 추론"
   ]
  },
  {
   "cell_type": "markdown",
   "metadata": {},
   "source": [
    "```python\n",
    "kmeans_predictor = kmeans.deploy(initial_instance_count=1,\n",
    "                                 instance_type='ml.m4.xlarge')\n",
    "\n",
    "result = kmeans_predictor.predict(train_set[0][30:31])\n",
    "print(result)\n",
    "```"
   ]
  },
  {
   "cell_type": "markdown",
   "metadata": {},
   "source": [
    "<img src=\"figures/cap11.png\" width=600 />"
   ]
  },
  {
   "cell_type": "markdown",
   "metadata": {},
   "source": [
    "##### 엔드포인트 해제"
   ]
  },
  {
   "cell_type": "markdown",
   "metadata": {},
   "source": [
    "```python\n",
    "print(kmeans_predictor.endpoint)\n",
    "\n",
    "import sagemaker\n",
    "sagemaker.Session().delete_endpoint(kmeans_predictor.endpoint)\n",
    "```"
   ]
  },
  {
   "cell_type": "markdown",
   "metadata": {},
   "source": [
    "###### 참고 - 위 명령어대로 하면, 엔드포인트 구성은 삭제되지 않는다. "
   ]
  },
  {
   "cell_type": "markdown",
   "metadata": {},
   "source": [
    "<img src=\"figures/cap12.png\" width=600 />"
   ]
  },
  {
   "cell_type": "markdown",
   "metadata": {},
   "source": [
    "-------------------------------"
   ]
  },
  {
   "cell_type": "markdown",
   "metadata": {},
   "source": [
    "# Exercise 3.2: Using the XGBoost Algorithm"
   ]
  },
  {
   "cell_type": "markdown",
   "metadata": {},
   "source": [
    "In this exercise, you will complete an Amazon SageMaker example notebook for Customer Churn Prediction with XGBoost. XGBoost (Extreme Gradient Boosting) is a popular and e cient open source implementation of the gradient boosted trees algorithm. Gradient boosting is a supervised learning algorithm that attempts to accurately predict a target variable by combining the estimates of a set of simpler, weaker models.\n",
    "\n",
    "In this example notebook, you will work with a dataset of customers from a  ctional mobile operator. The dataset has a churn value, which indicates whether a customer left the service. At the end of the notebook, you will look at optimizing the threshold for predicted churn. A value is assigned to the four states—false positive, true positive, false negative, and true negative. You will use this formula to determine the cuto  value where costs are minimized."
   ]
  },
  {
   "cell_type": "markdown",
   "metadata": {},
   "source": [
    "### 1. Start the Amazon SageMaker example"
   ]
  },
  {
   "cell_type": "markdown",
   "metadata": {},
   "source": [
    "In this section, you will launch the sample xgboost_customer_churn.ipynb notebook into your notebook instance."
   ]
  },
  {
   "cell_type": "markdown",
   "metadata": {},
   "source": [
    "* From the Jupyter notebook home, click SageMaker Examples.\n",
    "* To open the xgboost_customer_churn example, click Introduction to Applying Machine Learning > xgboost_customer_churn.ipynb, and click Use.\n",
    "* Click Create copy to copy and launch the example.\n",
    "* In the  rst code cell of the notebook, locate the code that sets the bucket. Update the variable with your <b>REPLACE_WITH_YOUR_INITIALS-sagemaker</b> bucket created in the  rst exercise.\n"
   ]
  },
  {
   "cell_type": "markdown",
   "metadata": {},
   "source": [
    "```shell\n",
    " bucket = 'REPLACE_WITH_YOUR_INITIALS-sagemaker'\n",
    "```"
   ]
  },
  {
   "cell_type": "markdown",
   "metadata": {},
   "source": [
    "<img src=\"figures/cap13.png\" width=600 />\n",
    "<img src=\"figures/cap16.png\" width=600 />\n",
    "<img src=\"figures/cap14.png\" width=600 />\n",
    "<img src=\"figures/cap15.png\" width=600 />"
   ]
  },
  {
   "cell_type": "markdown",
   "metadata": {},
   "source": [
    "#### 관련 코드 조각들"
   ]
  },
  {
   "cell_type": "markdown",
   "metadata": {},
   "source": [
    "##### 모델 생성"
   ]
  },
  {
   "cell_type": "markdown",
   "metadata": {},
   "source": [
    "```python\n",
    "from sagemaker import get_execution_role\n",
    "from sagemaker.session import Session\n",
    "\n",
    "role = get_execution_role()\n",
    "bucket = Session().default_bucket()\n",
    "```"
   ]
  },
  {
   "cell_type": "markdown",
   "metadata": {},
   "source": [
    "```python\n",
    "train_data, validation_data, test_data = np.split(model_data.sample(frac=1, random_state=1729), [int(0.7 * len(model_data)), int(0.9 * len(model_data))])\n",
    "train_data.to_csv('train.csv', header=False, index=False)\n",
    "validation_data.to_csv('validation.csv', header=False, index=False)\n",
    "```"
   ]
  },
  {
   "cell_type": "markdown",
   "metadata": {},
   "source": [
    "```python\n",
    "boto3.Session().resource('s3').Bucket(bucket).Object(os.path.join(prefix, 'train/train.csv')).upload_file('train.csv')\n",
    "boto3.Session().resource('s3').Bucket(bucket).Object(os.path.join(prefix, 'validation/validation.csv')).upload_file('validation.csv')\n",
    "```"
   ]
  },
  {
   "cell_type": "markdown",
   "metadata": {},
   "source": [
    "```python\n",
    "from sagemaker.amazon.amazon_estimator import get_image_uri\n",
    "container = get_image_uri(boto3.Session().region_name, 'xgboost')\n",
    "```"
   ]
  },
  {
   "cell_type": "markdown",
   "metadata": {},
   "source": [
    "```python\n",
    "sess = sagemaker.Session()\n",
    "\n",
    "xgb = sagemaker.estimator.Estimator(container,\n",
    "                                    role, \n",
    "                                    train_instance_count=1, \n",
    "                                    train_instance_type='ml.m4.xlarge',\n",
    "                                    output_path='s3://{}/{}/output'.format(bucket, prefix),\n",
    "                                    sagemaker_session=sess)\n",
    "```"
   ]
  },
  {
   "cell_type": "markdown",
   "metadata": {},
   "source": [
    "```python\n",
    "xgb.set_hyperparameters(max_depth=5,\n",
    "                        eta=0.2,\n",
    "                        gamma=4,\n",
    "                        min_child_weight=6,\n",
    "                        subsample=0.8,\n",
    "                        silent=0,\n",
    "                        objective='binary:logistic',\n",
    "                        num_round=100)\n",
    "```"
   ]
  },
  {
   "cell_type": "markdown",
   "metadata": {},
   "source": [
    "```python\n",
    "xgb.fit({'train': s3_input_train, 'validation': s3_input_validation}) \n",
    "```"
   ]
  },
  {
   "cell_type": "markdown",
   "metadata": {},
   "source": [
    "<img src=\"figures/cap17.png\" width=600 />\n",
    "<img src=\"figures/cap18.png\" width=600 />"
   ]
  },
  {
   "cell_type": "markdown",
   "metadata": {},
   "source": [
    "<img src=\"figures/cap19.png\" width=600 />"
   ]
  },
  {
   "cell_type": "markdown",
   "metadata": {},
   "source": [
    "##### 디플로이(엔드포인트 생성) & 추론"
   ]
  },
  {
   "cell_type": "markdown",
   "metadata": {},
   "source": [
    "```python\n",
    "xgb_predictor = xgb.deploy(initial_instance_count=1,\n",
    "                           instance_type='ml.m4.xlarge')\n",
    "```"
   ]
  },
  {
   "cell_type": "markdown",
   "metadata": {},
   "source": [
    "<img src=\"figures/cap20.png\" width=600 />"
   ]
  },
  {
   "cell_type": "markdown",
   "metadata": {},
   "source": [
    "```python\n",
    "xgb_predictor.content_type = 'text/csv'\n",
    "xgb_predictor.serializer = csv_serializer\n",
    "xgb_predictor.deserializer = None\n",
    "\n",
    "def predict(data, rows=500):\n",
    "    split_array = np.array_split(data, int(data.shape[0] / float(rows) + 1))\n",
    "    predictions = ''\n",
    "    for array in split_array:\n",
    "        predictions = ','.join([predictions, xgb_predictor.predict(array).decode('utf-8')])\n",
    "\n",
    "    return np.fromstring(predictions[1:], sep=',')\n",
    "\n",
    "predictions = predict(test_data.as_matrix()[:, 1:])\n",
    "```"
   ]
  },
  {
   "cell_type": "markdown",
   "metadata": {},
   "source": [
    "```python\n",
    "pd.crosstab(index=test_data.iloc[:, 0], columns=np.round(predictions), rownames=['actual'], colnames=['predictions'])\n",
    "```"
   ]
  },
  {
   "cell_type": "markdown",
   "metadata": {},
   "source": [
    "<img src=\"figures/cap21.png\" width=200 />"
   ]
  },
  {
   "cell_type": "markdown",
   "metadata": {},
   "source": [
    "```python\n",
    "plt.hist(predictions)\n",
    "plt.show()\n",
    "```"
   ]
  },
  {
   "cell_type": "markdown",
   "metadata": {},
   "source": [
    "<img src=\"figures/cap22.png\" width=400 />"
   ]
  },
  {
   "cell_type": "markdown",
   "metadata": {},
   "source": [
    "##### 엔드포인트 해제"
   ]
  },
  {
   "cell_type": "markdown",
   "metadata": {},
   "source": [
    "```python\n",
    "sagemaker.Session().delete_endpoint(xgb_predictor.endpoint)\n",
    "```"
   ]
  },
  {
   "cell_type": "markdown",
   "metadata": {},
   "source": [
    "---------------------------------"
   ]
  },
  {
   "cell_type": "markdown",
   "metadata": {},
   "source": [
    "<font color=\"red\"> 실습이 끝나면 요금폭탄을 맞지 않도록, 반드시 멈추고 지웁시다. </font>"
   ]
  },
  {
   "cell_type": "markdown",
   "metadata": {},
   "source": [
    "### 3. End running Jupyter processes, and stop the notebook instance."
   ]
  },
  {
   "cell_type": "markdown",
   "metadata": {},
   "source": [
    "* From the Jupyter notebook home, click Running. \n",
    "* Click Shutdown next to the terminal and notebook.\n",
    "* To stop the notebook instance, return to the AWS console, and click Services > Amazon SageMaker to open the Amazon SageMaker dashboard.\n",
    "* In the left navigation pane, click Notebook instances, and then click Stop next to the edXSageMaker instance."
   ]
  },
  {
   "cell_type": "markdown",
   "metadata": {},
   "source": [
    "### 4. Delete the endpoint con guration and model."
   ]
  },
  {
   "cell_type": "markdown",
   "metadata": {},
   "source": [
    "#### kmeans"
   ]
  },
  {
   "cell_type": "markdown",
   "metadata": {},
   "source": [
    "* Return to the the Amazon SageMaker dashboard.\n",
    "* In the left navigation pane, click Endpoints, and ensure the endpoint created by the notebook has been removed. \n",
    "* In the left navigation pane, for Endpoint con gurations, click the the endpoint that starts with kmeans.\n",
    "* For Actions, click Delete.\n",
    "* Click Delete to confirm.\n",
    "* In the left navigation pane, for Models, click the model that starts with kmeans.\n",
    "* For Actions, click Delete.\n",
    "* Click Delete to confirm."
   ]
  },
  {
   "cell_type": "markdown",
   "metadata": {},
   "source": [
    "#### xgboost"
   ]
  },
  {
   "cell_type": "markdown",
   "metadata": {},
   "source": [
    "* Return to the the Amazon SageMaker dashboard.\n",
    "* In the left navigation pane, click Endpoints, and ensure the endpoint created by the notebook has been removed. \n",
    "* In the left navigation pane, for Endpoint con gurations, click the endpoint that starts with xgboost.\n",
    "* For Actions, click Delete.\n",
    "* Click Delete to confirm.\n",
    "* In the left navigation pane, for Models, click the model that starts with xgboost.\n",
    "* For Actions, click Delete.\n",
    "* Click Delete to confirm"
   ]
  },
  {
   "cell_type": "markdown",
   "metadata": {},
   "source": [
    "----------------------------------"
   ]
  },
  {
   "cell_type": "markdown",
   "metadata": {},
   "source": [
    "# 참고자료\n",
    "* [1] edX course : Amazon SageMaker: Simplifying Machine Learning Application Development \n",
    "    - https://www.edx.org/course/simplifying-machine-learning-app-development-with-amazon-sagemaker\n",
    "    - Week 3. Amazon SageMaker Algorithms\n",
    "* [2] Amazon SageMaker의 기본 제공 알고리즘 사용 - https://docs.aws.amazon.com/ko_kr/sagemaker/latest/dg/algos.html\n",
    "* [3] The Amazon SageMaker examples Git repository at https://github.com/awslabs/amazon-sagemaker-examples"
   ]
  }
 ],
 "metadata": {
  "kernelspec": {
   "display_name": "Python 3",
   "language": "python",
   "name": "python3"
  },
  "language_info": {
   "codemirror_mode": {
    "name": "ipython",
    "version": 3
   },
   "file_extension": ".py",
   "mimetype": "text/x-python",
   "name": "python",
   "nbconvert_exporter": "python",
   "pygments_lexer": "ipython3",
   "version": "3.7.1"
  }
 },
 "nbformat": 4,
 "nbformat_minor": 2
}
