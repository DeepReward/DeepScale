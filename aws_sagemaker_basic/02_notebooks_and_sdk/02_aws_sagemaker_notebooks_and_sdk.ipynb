{
 "cells": [
  {
   "cell_type": "markdown",
   "metadata": {},
   "source": [
    "# 02. AWS SageMaker Notebooks and SDK"
   ]
  },
  {
   "cell_type": "markdown",
   "metadata": {},
   "source": [
    "* 딥리워드 / 딥스케일 - AWS SageMaker 기초 [1]\n",
    "* 발표자 : 김무성"
   ]
  },
  {
   "cell_type": "markdown",
   "metadata": {},
   "source": [
    "----------------------------"
   ]
  },
  {
   "cell_type": "markdown",
   "metadata": {},
   "source": [
    "# 차례\n",
    "* Exercise 2.1: Create Your Notebook Instance\n",
    "    - 1. Create an Amazon SageMaker notebook instance\n",
    "    - 2. Download Pandas-Demo.ipynb to the notebook instance\n",
    "    - 3. Run Pandas-Demo.ipynb on the notebook instance\n",
    "* Exercise 2.2: Amazon SageMaker SDK\n",
    "    - 1. Download notebook code to the notebook instance\n",
    "    - 2. Run the notebook code on the notebook instance\n",
    "    - 3. End running Jupyter processes, and stop the notebook instance\n",
    "    - 4. Delete the endpoint con guration and model"
   ]
  },
  {
   "cell_type": "markdown",
   "metadata": {},
   "source": [
    "--------------------------------------"
   ]
  },
  {
   "cell_type": "markdown",
   "metadata": {},
   "source": [
    "<img src=\"figures/sagemaker_overview.png\" width=600 />"
   ]
  },
  {
   "cell_type": "markdown",
   "metadata": {},
   "source": [
    "# Exercise 2.1: Create Your Notebook Instance"
   ]
  },
  {
   "cell_type": "markdown",
   "metadata": {},
   "source": [
    "##### 참고자료\n",
    "* [1] edX course : Amazon SageMaker: Simplifying Machine Learning Application Development \n",
    "    - https://www.edx.org/course/simplifying-machine-learning-app-development-with-amazon-sagemaker\n",
    "    - Week 2 . Amazon SageMaker Notebooks and SDK"
   ]
  },
  {
   "cell_type": "markdown",
   "metadata": {},
   "source": [
    "### 0. edXSageMakerUser IAM user 로 로그인"
   ]
  },
  {
   "cell_type": "markdown",
   "metadata": {},
   "source": [
    "###### 01 chapter 발표자료 참조\n",
    "01_intro / 01_intro_aws_sagemaker.ipynb\n",
    "- https://nbviewer.jupyter.org/github/deepreward/DeepScale/blob/master/aws_sagemaker_basic/01_intro/01_intro_aws_sagemaker.ipynb\n",
    "\n",
    "\n",
    "-------------\n",
    "\n",
    "* Sign in as the edXSageMakerUser IAM user (IAM user name: SageMakerOnAWS)\n",
    "* https://your-sign-in-URL"
   ]
  },
  {
   "cell_type": "markdown",
   "metadata": {},
   "source": [
    "### 1. Create an Amazon SageMaker notebook instance"
   ]
  },
  {
   "cell_type": "markdown",
   "metadata": {},
   "source": [
    "* Sign in to the AWS Management Console as the edXSageMakerUser IAM user.\n",
    "* In the console, click Services > Amazon SageMaker to open the Amazon SageMaker dashboard. \n",
    "* Make sure you are in the Oregon Region.\n",
    "* In the left navigation pane, click Notebook instances > Create notebook instance.\n",
    "* For Notebook instance name, enter edXSageMaker in the text box.\n",
    "* Confirm that the IAM role is populated with the role you created in the previous exercise.\n",
    "* Click Create notebook instance."
   ]
  },
  {
   "cell_type": "markdown",
   "metadata": {},
   "source": [
    "<img src=\"figures/cap01.jpeg\" width=600 />\n",
    "<img src=\"figures/cap02.jpeg\" width=600 />\n",
    "<img src=\"figures/cap03.jpeg\" width=600 />"
   ]
  },
  {
   "cell_type": "markdown",
   "metadata": {},
   "source": [
    "### 2. Download Pandas-Demo.ipynb to the notebook instance"
   ]
  },
  {
   "cell_type": "markdown",
   "metadata": {},
   "source": [
    "* Click the Open link for your new edXSageMaker notebook instance. The Jupyter notebook home opens in a new browser tab.\n",
    "* To download the Pandas-Demo.ipynb notebook, open a terminal window, and for New, click Terminal. A terminal window displays where you can run commands on your notebook instance."
   ]
  },
  {
   "cell_type": "markdown",
   "metadata": {},
   "source": [
    "<img src=\"figures/cap04.jpeg\" width=600 />"
   ]
  },
  {
   "cell_type": "markdown",
   "metadata": {},
   "source": [
    "<img src=\"figures/cap05.jpeg\" width=600 />"
   ]
  },
  {
   "cell_type": "markdown",
   "metadata": {},
   "source": [
    "* Run the following commands to change the directory and download the notebook:"
   ]
  },
  {
   "cell_type": "markdown",
   "metadata": {},
   "source": [
    "```shell\n",
    "$ cd ~/SageMaker/\n",
    "$ wget https://us-west-2-tcdev.s3.amazonaws.com/courses/AWS-100-MLS/v1.0.0/exercises/notebooks/Pandas-Demo.ipynb\n",
    "```"
   ]
  },
  {
   "cell_type": "markdown",
   "metadata": {},
   "source": [
    "<img src=\"figures/cap06.jpeg\" width=600 />"
   ]
  },
  {
   "cell_type": "markdown",
   "metadata": {},
   "source": [
    "### 3. Run Pandas-Demo.ipynb on the notebook instance."
   ]
  },
  {
   "cell_type": "markdown",
   "metadata": {},
   "source": [
    "<img src=\"figures/cap07.jpeg\" width=600 />"
   ]
  },
  {
   "cell_type": "markdown",
   "metadata": {},
   "source": [
    "-------------------------------"
   ]
  },
  {
   "cell_type": "markdown",
   "metadata": {},
   "source": [
    "# Exercise 2.2: Amazon SageMaker SDK"
   ]
  },
  {
   "cell_type": "markdown",
   "metadata": {},
   "source": [
    "The exercises in this course will generate associated charges in your AWS account. In this exercise, you will create the following:\n",
    "* Amazon S3 bucket, with training and model S3 objects \n",
    "* Amazon SageMaker ML training instance\n",
    "* Amazon SageMaker ML hosting instance"
   ]
  },
  {
   "cell_type": "markdown",
   "metadata": {},
   "source": [
    "This exercise introduces you to the Amazon SageMaker high-level Python library. The library is provided as an abstraction for training and deploying machine-learned models on Amazon SageMaker.\n",
    "\n",
    "You will repeat the exercise 1.1 Driving Linear Learner steps for the AWS console, but instead of using the console, you will interact with Amazon SageMaker using the high-level Python library from a notebook instance."
   ]
  },
  {
   "cell_type": "markdown",
   "metadata": {},
   "source": [
    "### 1. Download notebook code to the notebook instance"
   ]
  },
  {
   "cell_type": "markdown",
   "metadata": {},
   "source": [
    "In this section, you will download the Amazon-SageMaker-high-level-Python-library.ipynb notebook and training.csv  le to your instance."
   ]
  },
  {
   "cell_type": "markdown",
   "metadata": {},
   "source": [
    "<img src=\"figures/cap03.jpeg\" width=600 />"
   ]
  },
  {
   "cell_type": "markdown",
   "metadata": {},
   "source": [
    "* To download the Amazon-SageMaker-high-level-Python-library.ipynb notebook, open a terminal window. For New, click Terminal.\n",
    "* Run the following commands to change the directory, and download the notebook and .csv file."
   ]
  },
  {
   "cell_type": "markdown",
   "metadata": {},
   "source": [
    "```shell\n",
    "$ cd ~/SageMaker/\n",
    "$ wget https://us-west-2-tcdev.s3.amazonaws.com/courses/AWS-100-MLS/v1.0.0/exercises/notebooks/Amazon-SageMaker-high-level-Python-library.ipynb\n",
    "$ wget https://us-west-2-tcdev.s3.amazonaws.com/courses/AWS-100-MLS/v1.0.0/exercises/notebooks/training.csv\n",
    "```"
   ]
  },
  {
   "cell_type": "markdown",
   "metadata": {},
   "source": [
    "<img src=\"figures/cap08.jpeg\" width=600 />\n",
    "<img src=\"figures/cap09.jpeg\" width=600 />"
   ]
  },
  {
   "cell_type": "markdown",
   "metadata": {},
   "source": [
    "### 2. Run the notebook code on the notebook instance"
   ]
  },
  {
   "cell_type": "markdown",
   "metadata": {},
   "source": [
    "* You now have everything on the notebook instance you need to run the high-level library demonstration. As with the previous notebook exercise, you can complete the exercise by running each cell in the notebook.\n",
    "* Ensure you run the  nal cell in the notebook to delete the endpoint created in this exercise."
   ]
  },
  {
   "cell_type": "markdown",
   "metadata": {},
   "source": [
    "##### 데이터 로드"
   ]
  },
  {
   "cell_type": "markdown",
   "metadata": {},
   "source": [
    "```python\n",
    "import pandas as pd\n",
    "import numpy as np\n",
    "\n",
    "df = pd.read_csv('training.csv', header=None)\n",
    "matrix = df.as_matrix()\n",
    "\n",
    "%matplotlib inline\n",
    "import matplotlib.pyplot as plt\n",
    "\n",
    "def show_road(img, caption='', subplot=None):\n",
    "    if subplot==None:\n",
    "        _,(subplot)=plt.subplots(1,1)\n",
    "    imgr=img.reshape((10,25))\n",
    "    subplot.axis('off')\n",
    "    subplot.imshow(imgr, cmap='gray')\n",
    "    plt.title(caption)\n",
    "\n",
    "row = 15\n",
    "show_road(matrix[row][1:], \"Label = {}\".format(matrix[row][0]))\n",
    "```"
   ]
  },
  {
   "cell_type": "markdown",
   "metadata": {},
   "source": [
    "<img src=\"figures/cap10.jpeg\" width=400 />"
   ]
  },
  {
   "cell_type": "markdown",
   "metadata": {},
   "source": [
    "##### SageMaker 라이브러리 "
   ]
  },
  {
   "cell_type": "markdown",
   "metadata": {},
   "source": [
    "```python\n",
    "import sagemaker\n",
    "from sagemaker import get_execution_role\n",
    "\n",
    "role = get_execution_role()\n",
    "```"
   ]
  },
  {
   "cell_type": "markdown",
   "metadata": {},
   "source": [
    "##### 머신러닝 모델 생성"
   ]
  },
  {
   "cell_type": "markdown",
   "metadata": {},
   "source": [
    "```python\n",
    "multiclass_estimator = sagemaker.LinearLearner(role=role,\n",
    "                                               train_instance_count=1,\n",
    "                                               train_instance_type='ml.m4.xlarge',\n",
    "                                               predictor_type='multiclass_classifier',\n",
    "                                               num_classes=3)\n",
    "```"
   ]
  },
  {
   "cell_type": "markdown",
   "metadata": {},
   "source": [
    "##### 학습 - 자동으로 '훈련작업(training jab)' 인스턴스, s3  인스턴스 등의 관련 컴포넌트들을 생성, 연결  해준다."
   ]
  },
  {
   "cell_type": "markdown",
   "metadata": {},
   "source": [
    "```python\n",
    "mini_batch_size = 100\n",
    "records = matrix[:,:-1].astype('float32')\n",
    "labels = matrix[:,0].astype('float32')\n",
    "train_records = multiclass_estimator.record_set(records, labels, channel='train')\n",
    "multiclass_estimator.fit([train_records])\n",
    "```"
   ]
  },
  {
   "cell_type": "markdown",
   "metadata": {},
   "source": [
    "<img src=\"figures/cap11.jpeg\" width=600 />\n",
    "<img src=\"figures/cap12.jpeg\" width=600 />\n",
    "<img src=\"figures/cap_s3.png\" width=600 />"
   ]
  },
  {
   "cell_type": "markdown",
   "metadata": {},
   "source": [
    "<img src=\"figures/cap13.jpeg\" width=600 />\n",
    "<img src=\"figures/cap14.png\" width=600 />"
   ]
  },
  {
   "cell_type": "markdown",
   "metadata": {},
   "source": [
    "##### 모델 deploy - 모델 구성, 엔드포인트 구성 및 생성 등의 작업을 자동으로 해준다."
   ]
  },
  {
   "cell_type": "markdown",
   "metadata": {},
   "source": [
    "```python\n",
    "multiclass_predictor = multiclass_estimator.deploy(initial_instance_count=1, instance_type='ml.t2.medium')\n",
    "```"
   ]
  },
  {
   "cell_type": "markdown",
   "metadata": {},
   "source": [
    "<img src=\"figures/cap15.png\" width=600 />\n",
    "<img src=\"figures/cap16.png\" width=600 />\n",
    "<img src=\"figures/cap17.png\" width=600 />\n",
    "<img src=\"figures/cap18.png\" width=600 />\n",
    "<img src=\"figures/cap19.jpeg\" width=600 />\n",
    "<img src=\"figures/cap20.jpeg\" width=600 />"
   ]
  },
  {
   "cell_type": "markdown",
   "metadata": {},
   "source": [
    "##### 추론"
   ]
  },
  {
   "cell_type": "markdown",
   "metadata": {},
   "source": [
    "```python\n",
    "labels = [\"left\", \"straight\", \"right\"]\n",
    "\n",
    "experiment = np.array([[0,0,0,0,1,2,2,2,2,2,1,0,0,0,0,0,0,0,0,0,0,0,0,0,0,0,0,0,0,0,1,2,2,2,2,2,1,0,0,0,0,0,0,0,0,0,0,0,0,0,0,0,0,0,0,1,2,2,2,2,2,1,0,0,0,0,0,0,0,0,0,0,0,0,0,0,0,0,0,0,0,1,2,2,2,2,2,1,0,0,0,0,0,0,0,0,0,0,0,0,0,0,0,0,0,0,1,2,2,2,2,2,1,0,0,0,0,0,0,0,0,0,0,0,0,0,0,0,0,0,0,0,1,2,2,2,2,2,1,0,0,0,0,0,0,0,0,0,0,0,0,0,0,0,0,0,0,1,2,2,2,2,2,1,0,0,0,0,0,0,0,0,0,0,0,0,0,0,0,0,0,0,0,1,2,2,2,2,2,1,0,0,0,0,0,0,0,0,0,0,0,0,0,0,0,0,0,0,1,2,2,2,2,2,1,0,0,0,0,0,0,0,0,0,0,0,0,0,0,0,0,0,0,0,1,2,2,2,2,2,1,0,0,0,0,0,0,0,0,0]]).astype('float32')\n",
    "result = multiclass_predictor.predict(experiment)\n",
    "predicted_label = int(result[0].label['predicted_label'].float32_tensor.values[0])\n",
    "show_road(experiment, \"Label = {}\".format(labels[predicted_label]))\n",
    "\n",
    "experiment = np.array([[0,0,0,0,0,0,0,0,1,2,2,2,2,2,1,0,0,0,0,0,0,0,0,0,0,0,0,0,0,0,0,0,0,1,2,2,2,2,2,1,0,0,0,0,0,0,0,0,0,0,0,0,0,0,0,0,0,0,0,1,2,2,2,2,2,1,0,0,0,0,0,0,0,0,0,0,0,0,0,0,0,0,0,0,0,0,1,2,2,2,2,2,1,0,0,0,0,0,0,0,0,0,0,0,0,0,0,0,0,0,0,0,0,1,2,2,2,2,2,1,0,0,0,0,0,0,0,0,0,0,0,0,0,0,0,0,0,0,0,1,2,2,2,2,2,1,0,0,0,0,0,0,0,0,0,0,0,0,0,0,0,0,0,0,1,2,2,2,2,2,1,0,0,0,0,0,0,0,0,0,0,0,0,0,0,0,0,0,1,2,2,2,2,2,1,0,0,0,0,0,0,0,0,0,0,0,0,0,0,0,0,1,2,2,2,2,2,1,0,0,0,0,0,0,0,0,0,0,0,0,0,0,0,0,1,2,2,2,2,2,1,0,0,0,0,0,0,0,0,0]]).astype('float32')\n",
    "result = multiclass_predictor.predict(experiment)\n",
    "predicted_label = int(result[0].label['predicted_label'].float32_tensor.values[0])\n",
    "show_road(experiment, \"Label = {}\".format(labels[predicted_label]))\n",
    "```"
   ]
  },
  {
   "cell_type": "markdown",
   "metadata": {},
   "source": [
    "##### endpoint 삭제 - 실행하면 엔드포인트 이외의 것들(모델 등)은 남아있다."
   ]
  },
  {
   "cell_type": "markdown",
   "metadata": {},
   "source": [
    "```python\n",
    "# delete endpoint\n",
    "multiclass_predictor.delete_endpoint()\n",
    "```"
   ]
  },
  {
   "cell_type": "markdown",
   "metadata": {},
   "source": [
    "<img src=\"figures/cap21.png\" width=600 />\n",
    "<img src=\"figures/cap22.png\" width=600 />\n",
    "<img src=\"figures/cap23.png\" width=600 />"
   ]
  },
  {
   "cell_type": "markdown",
   "metadata": {},
   "source": [
    "---------------------------------"
   ]
  },
  {
   "cell_type": "markdown",
   "metadata": {},
   "source": [
    "<font color=\"red\"> 실습이 끝나면 요금폭탄을 맞지 않도록, 반드시 멈추고 지웁시다. </font>"
   ]
  },
  {
   "cell_type": "markdown",
   "metadata": {},
   "source": [
    "### 3. End running Jupyter processes, and stop the notebook instance."
   ]
  },
  {
   "cell_type": "markdown",
   "metadata": {},
   "source": [
    "* From the Jupyter notebook home, click Running. \n",
    "* Click Shutdown next to the terminal and notebook.\n",
    "* To stop the notebook instance, return to the AWS console, and click Services > Amazon SageMaker to open the Amazon SageMaker dashboard.\n",
    "* In the left navigation pane, click Notebook instances, and then click Stop next to the edXSageMaker instance."
   ]
  },
  {
   "cell_type": "markdown",
   "metadata": {},
   "source": [
    "### 4. Delete the endpoint con guration and model."
   ]
  },
  {
   "cell_type": "markdown",
   "metadata": {},
   "source": [
    "* Return to the the Amazon SageMaker dashboard.\n",
    "* In the left navigation pane, click Endpoints, and ensure the endpoint created by the notebook is removed.\n",
    "* In the left navigation pane, click Endpoint con gurations, and choose the option for the endpoint that starts with linear-learner.\n",
    "* For Actions, click Delete.\n",
    "* Click Delete to confirm.\n",
    "* In the left navigation pane, click Models, and choose the option for the model that starts with linear-learner. \n",
    "* For Actions, click Delete.\n",
    "* Click Delete to confirm."
   ]
  },
  {
   "cell_type": "markdown",
   "metadata": {},
   "source": [
    "----------------------------------"
   ]
  },
  {
   "cell_type": "markdown",
   "metadata": {},
   "source": [
    "# 참고자료\n",
    "* [1] edX course : Amazon SageMaker: Simplifying Machine Learning Application Development \n",
    "    - https://www.edx.org/course/simplifying-machine-learning-app-development-with-amazon-sagemaker\n",
    "    - Week 2 . Amazon SageMaker Notebooks and SDK\n",
    "* [2] Amazon SageMaker high-level Python library \n",
    "    - https://github.com/aws/sagemaker-python-sdk \n",
    "    - https://sagemaker.readthedocs.io/en/latest/"
   ]
  }
 ],
 "metadata": {
  "kernelspec": {
   "display_name": "Python 3",
   "language": "python",
   "name": "python3"
  },
  "language_info": {
   "codemirror_mode": {
    "name": "ipython",
    "version": 3
   },
   "file_extension": ".py",
   "mimetype": "text/x-python",
   "name": "python",
   "nbconvert_exporter": "python",
   "pygments_lexer": "ipython3",
   "version": "3.7.1"
  }
 },
 "nbformat": 4,
 "nbformat_minor": 2
}
